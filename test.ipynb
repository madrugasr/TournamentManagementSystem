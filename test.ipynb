{
 "cells": [
  {
   "cell_type": "code",
   "execution_count": 12,
   "metadata": {},
   "outputs": [
    {
     "name": "stdout",
     "output_type": "stream",
     "text": [
      "None\n",
      "blue\n"
     ]
    }
   ],
   "source": [
    "import random\n",
    "cores = ['red','blue','green']\n",
    "print(random.shuffle(cores))\n",
    "print(random.choice(cores))\n"
   ]
  },
  {
   "cell_type": "code",
   "execution_count": 90,
   "metadata": {},
   "outputs": [
    {
     "name": "stdout",
     "output_type": "stream",
     "text": [
      "Singapura (ou Cingapura) Chile Líbano Noruega Hungria Portugal Zâmbia Ruanda Cazaquistão Butão Brasil Eslovênia Angola Luxemburgo Marrocos Guiana Reino Unido Israel Belize Tailândia São Cristóvão e Névis (ou São Cristóvão e Neves) Estados Unidos da América Bulgária Mianmar Afeganistão Vietnã Kosovo Uganda Madagascar Equador Sudão Mauritânia Bahamas Sudão do Sul Jordânia Guiné-Bissau Ossétia do Sul México Camarões Dinamarca República Centro-Africana Samoa Coreia do Norte Montenegro Guatemala Holanda Bielorrússia Burkina Faso Quênia Suécia Kiribati (ou Quiribati) República Árabe Saaraui Democrática Timor-Leste República do Congo El Salvador País de Gales Iraque Lesoto Armênia Eswatini Qatar (ou Catar) Nepal Argentina Chipre Espanha Peru Taiwan Canadá Venezuela Omã Eritreia Irlanda do Norte Albânia Uzbequistão Indonésia Gabão Gana Mongólia Palestina Colômbia Tchéquia (ou República Tcheca) Botswana Barbados Togo Mali Índia Áustria Tanzânia Maldivas Rússia Abecásia Paraguai Azerbaijão Malta Palau Eslováquia Namíbia Mônaco Djibouti (ou Djibuti) Suíça São Tomé e Príncipe Moldávia Quiribati (ou Kiribati) Costa do Marfim Bolívia Iêmen Malásia Grécia Bósnia Argélia Etiópia Filipinas Haiti Nigéria Níger Benim Egito Macedônia do Norte Escócia São Vicente e Granadinas Dominica Liechtenstein (ou Listenstaine) Jamaica Líbia Polônia Arábia Saudita Zimbábue República Tcheca (ou Tchéquia) República Dominicana Sri Lanka Sérvia Micronésia Guiné Burundi Turquia Tunísia Turcomenistão China Tonga República Turca de Chipre do Norte Suriname Islândia Estados Federados da Micronésia Austrália Nicarágua: Bangladesh Laos Somália Brunei Gâmbia Bahrein Papua-Nova Guiné Honduras Seychelles (ou Seicheles) França Senegal Libéria Alemanha Suazilândia (ou Eswatini, ou Essuatíni) Tajiquistão (ou Tadjiquistão) Irã (ou Irão) Antígua e Barbuda Tuvalu Granada Singapura Congo Vanuatu Irlanda Lituânia Comores Estônia Cuba Marshall Itália Malawi (ou Malauí) Geórgia Nova Zelândia Maurícia Croácia Ucrânia Quirguistão Panamá Síria República Democrática do Congo Andorra Inglaterra Kuwait Emirados Árabes Unidos Moçambique Países Baixos Japão Costa Rica San Marino (ou São Marinho) Serra Leoa Coreia do Sul Uruguai Paquistão Bélgica Santa Lúcia Chade Nauru Cabo Verde Salomão Catar (ou Qatar) África do Sul Guiné Equatorial Camboja Romênia Letônia Trinidad e Tobago Fiji Finlândia\n",
      "\n",
      "Lesoto\n"
     ]
    }
   ],
   "source": [
    "import random\n",
    "\n",
    "ficheiro = open(\"ficheiro\\lista-paises.csv\",\"r\", encoding=\"utf8\")\n",
    "lista_paises = []\n",
    "\n",
    "for linha in ficheiro.readlines():\n",
    "    lista_paises.append(linha.strip())\n",
    "ficheiro.close()\n",
    "    \n",
    "random.shuffle(lista_paises)\n",
    "print(*lista_paises)\n",
    "print()\n",
    "print(random.choice(lista_paises))"
   ]
  },
  {
   "cell_type": "code",
   "execution_count": 108,
   "metadata": {},
   "outputs": [
    {
     "name": "stdout",
     "output_type": "stream",
     "text": [
      "W\n"
     ]
    }
   ],
   "source": [
    "lista_grupo = ('ABCDEFGHIJKLMNOPQRSTUVWXYZ')\n",
    "\n",
    "print(random.choice(lista_grupo))"
   ]
  },
  {
   "cell_type": "code",
   "execution_count": 21,
   "metadata": {},
   "outputs": [
    {
     "name": "stdout",
     "output_type": "stream",
     "text": [
      "[200, 1, 9, 200, 1, 900, 321]\n"
     ]
    }
   ],
   "source": [
    "l = [1,1,9,9,200]\n",
    "ll = [1, 1,1,1,1,900, 200, 321]\n",
    "l2 = list(set(ll))\n",
    "l1 = list(set(l))\n",
    "print(l1+l2)\n",
    "                \n",
    "                "
   ]
  },
  {
   "cell_type": "code",
   "execution_count": 21,
   "metadata": {},
   "outputs": [],
   "source": [
    "lista_jogo = []\n",
    "jogo = input('Jogo?: ')\n",
    "lista_jogo.append(jogo)\n",
    "\n",
    "if lista_jogo.count(jogo) > 2:\n",
    "    print(lista_jogo)\n"
   ]
  }
 ],
 "metadata": {
  "interpreter": {
   "hash": "2b5af450c119b225b806853a03e5d62dd2635d3d0396b6e71322e7c4810579f3"
  },
  "kernelspec": {
   "display_name": "Python 3.10.0 64-bit",
   "language": "python",
   "name": "python3"
  },
  "language_info": {
   "codemirror_mode": {
    "name": "ipython",
    "version": 3
   },
   "file_extension": ".py",
   "mimetype": "text/x-python",
   "name": "python",
   "nbconvert_exporter": "python",
   "pygments_lexer": "ipython3",
   "version": "3.10.0"
  },
  "orig_nbformat": 4
 },
 "nbformat": 4,
 "nbformat_minor": 2
}
