{
 "cells": [
  {
   "cell_type": "code",
   "execution_count": 12,
   "metadata": {},
   "outputs": [
    {
     "name": "stdout",
     "output_type": "stream",
     "text": [
      "None\n",
      "blue\n"
     ]
    }
   ],
   "source": [
    "import random\n",
    "cores = ['red','blue','green']\n",
    "print(random.shuffle(cores))\n",
    "print(random.choice(cores))\n"
   ]
  },
  {
   "cell_type": "code",
   "execution_count": 90,
   "metadata": {},
   "outputs": [
    {
     "name": "stdout",
     "output_type": "stream",
     "text": [
      "Singapura (ou Cingapura) Chile Líbano Noruega Hungria Portugal Zâmbia Ruanda Cazaquistão Butão Brasil Eslovênia Angola Luxemburgo Marrocos Guiana Reino Unido Israel Belize Tailândia São Cristóvão e Névis (ou São Cristóvão e Neves) Estados Unidos da América Bulgária Mianmar Afeganistão Vietnã Kosovo Uganda Madagascar Equador Sudão Mauritânia Bahamas Sudão do Sul Jordânia Guiné-Bissau Ossétia do Sul México Camarões Dinamarca República Centro-Africana Samoa Coreia do Norte Montenegro Guatemala Holanda Bielorrússia Burkina Faso Quênia Suécia Kiribati (ou Quiribati) República Árabe Saaraui Democrática Timor-Leste República do Congo El Salvador País de Gales Iraque Lesoto Armênia Eswatini Qatar (ou Catar) Nepal Argentina Chipre Espanha Peru Taiwan Canadá Venezuela Omã Eritreia Irlanda do Norte Albânia Uzbequistão Indonésia Gabão Gana Mongólia Palestina Colômbia Tchéquia (ou República Tcheca) Botswana Barbados Togo Mali Índia Áustria Tanzânia Maldivas Rússia Abecásia Paraguai Azerbaijão Malta Palau Eslováquia Namíbia Mônaco Djibouti (ou Djibuti) Suíça São Tomé e Príncipe Moldávia Quiribati (ou Kiribati) Costa do Marfim Bolívia Iêmen Malásia Grécia Bósnia Argélia Etiópia Filipinas Haiti Nigéria Níger Benim Egito Macedônia do Norte Escócia São Vicente e Granadinas Dominica Liechtenstein (ou Listenstaine) Jamaica Líbia Polônia Arábia Saudita Zimbábue República Tcheca (ou Tchéquia) República Dominicana Sri Lanka Sérvia Micronésia Guiné Burundi Turquia Tunísia Turcomenistão China Tonga República Turca de Chipre do Norte Suriname Islândia Estados Federados da Micronésia Austrália Nicarágua: Bangladesh Laos Somália Brunei Gâmbia Bahrein Papua-Nova Guiné Honduras Seychelles (ou Seicheles) França Senegal Libéria Alemanha Suazilândia (ou Eswatini, ou Essuatíni) Tajiquistão (ou Tadjiquistão) Irã (ou Irão) Antígua e Barbuda Tuvalu Granada Singapura Congo Vanuatu Irlanda Lituânia Comores Estônia Cuba Marshall Itália Malawi (ou Malauí) Geórgia Nova Zelândia Maurícia Croácia Ucrânia Quirguistão Panamá Síria República Democrática do Congo Andorra Inglaterra Kuwait Emirados Árabes Unidos Moçambique Países Baixos Japão Costa Rica San Marino (ou São Marinho) Serra Leoa Coreia do Sul Uruguai Paquistão Bélgica Santa Lúcia Chade Nauru Cabo Verde Salomão Catar (ou Qatar) África do Sul Guiné Equatorial Camboja Romênia Letônia Trinidad e Tobago Fiji Finlândia\n",
      "\n",
      "Lesoto\n"
     ]
    }
   ],
   "source": [
    "import random\n",
    "\n",
    "ficheiro = open(\"ficheiro\\lista-paises.csv\",\"r\", encoding=\"utf8\")\n",
    "lista_paises = []\n",
    "\n",
    "for linha in ficheiro.readlines():\n",
    "    lista_paises.append(linha.strip())\n",
    "ficheiro.close()\n",
    "    \n",
    "random.shuffle(lista_paises)\n",
    "print(*lista_paises)\n",
    "print()\n",
    "print(random.choice(lista_paises))"
   ]
  },
  {
   "cell_type": "code",
   "execution_count": 3,
   "metadata": {},
   "outputs": [
    {
     "data": {
      "text/html": [
       "<div>\n",
       "<style scoped>\n",
       "    .dataframe tbody tr th:only-of-type {\n",
       "        vertical-align: middle;\n",
       "    }\n",
       "\n",
       "    .dataframe tbody tr th {\n",
       "        vertical-align: top;\n",
       "    }\n",
       "\n",
       "    .dataframe thead th {\n",
       "        text-align: right;\n",
       "    }\n",
       "</style>\n",
       "<table border=\"1\" class=\"dataframe\">\n",
       "  <thead>\n",
       "    <tr style=\"text-align: right;\">\n",
       "      <th></th>\n",
       "      <th>Nome</th>\n",
       "      <th>Matemática</th>\n",
       "      <th>Português</th>\n",
       "    </tr>\n",
       "  </thead>\n",
       "  <tbody>\n",
       "    <tr>\n",
       "      <th>0</th>\n",
       "      <td>João</td>\n",
       "      <td>6.0</td>\n",
       "      <td>7.0</td>\n",
       "    </tr>\n",
       "    <tr>\n",
       "      <th>1</th>\n",
       "      <td>Maria</td>\n",
       "      <td>8.0</td>\n",
       "      <td>8.0</td>\n",
       "    </tr>\n",
       "    <tr>\n",
       "      <th>2</th>\n",
       "      <td>Pedro</td>\n",
       "      <td>4.0</td>\n",
       "      <td>5.3</td>\n",
       "    </tr>\n",
       "    <tr>\n",
       "      <th>3</th>\n",
       "      <td>Suzana</td>\n",
       "      <td>5.8</td>\n",
       "      <td>6.5</td>\n",
       "    </tr>\n",
       "  </tbody>\n",
       "</table>\n",
       "</div>"
      ],
      "text/plain": [
       "     Nome  Matemática  Português\n",
       "0    João         6.0        7.0\n",
       "1   Maria         8.0        8.0\n",
       "2   Pedro         4.0        5.3\n",
       "3  Suzana         5.8        6.5"
      ]
     },
     "execution_count": 3,
     "metadata": {},
     "output_type": "execute_result"
    }
   ],
   "source": [
    "import pandas as pd\n",
    "aluno_1 = pd.Series({'Nome': 'João', 'Matemática': 6, 'Português': 7})\n",
    "aluno_2 = pd.Series({'Nome': 'Maria', 'Matemática': 8, 'Português': 8})\n",
    "aluno_3 = pd.Series({'Nome': 'Pedro', 'Matemática': 4, 'Português': 5.3})\n",
    "aluno_4 = pd.Series({'Nome': 'Suzana', 'Matemática': 5.8, 'Português': 6.5})\n",
    "\n",
    "df = pd.DataFrame([aluno_1, aluno_2, aluno_3, aluno_4])\n",
    "df"
   ]
  },
  {
   "cell_type": "code",
   "execution_count": 1,
   "metadata": {},
   "outputs": [
    {
     "name": "stdout",
     "output_type": "stream",
     "text": [
      "   Name  Age  Percent\n",
      "0  Mark   12       95\n",
      "1   Jay   11       88\n",
      "2  Jack   14       90\n"
     ]
    }
   ],
   "source": [
    "import pandas as pd\n",
    "\n",
    "d = [[\"Mark\", 12, 95],\n",
    "     [\"Jay\", 11, 88],\n",
    "     [\"Jack\", 14, 90]]\n",
    "\n",
    "df = pd.DataFrame(d, columns = ['Name','Age','Percent'])\n",
    "print(df)"
   ]
  },
  {
   "cell_type": "code",
   "execution_count": null,
   "metadata": {},
   "outputs": [],
   "source": [
    "quant_jogos_aleatorios = input('\\nJogos Aleatórios: ')\n",
    "while not quant_jogos_aleatorios.isnumeric():\n",
    "    while int(quant_jogos_aleatorios) > 60:\n",
    "            print('Não é possível gerar mais de 60 jogos!')\n",
    "            break\n",
    "    print('\\n\\033[31mOpção Incorreta.\\033[m')\n",
    "    quant_jogos_aleatorios = input('\\nJogos Aleatórios: ')"
   ]
  },
  {
   "cell_type": "code",
   "execution_count": 2,
   "metadata": {},
   "outputs": [
    {
     "name": "stdout",
     "output_type": "stream",
     "text": [
      "Name      Age    Percent\n",
      "------  -----  ---------\n",
      "Mark       12         95\n",
      "Jay        11         88\n",
      "Jack       14         90\n"
     ]
    }
   ],
   "source": [
    "from tabulate import tabulate\n",
    "\n",
    "d = [ [\"Mark\", 12, 95],\n",
    "     [\"Jay\", 11, 88],\n",
    "     [\"Jack\", 14, 90]]\n",
    "\n",
    "print(tabulate(d, headers=[\"Name\", \"Age\", \"Percent\"]))"
   ]
  }
 ],
 "metadata": {
  "interpreter": {
   "hash": "2b5af450c119b225b806853a03e5d62dd2635d3d0396b6e71322e7c4810579f3"
  },
  "kernelspec": {
   "display_name": "Python 3.10.0 64-bit",
   "language": "python",
   "name": "python3"
  },
  "language_info": {
   "codemirror_mode": {
    "name": "ipython",
    "version": 3
   },
   "file_extension": ".py",
   "mimetype": "text/x-python",
   "name": "python",
   "nbconvert_exporter": "python",
   "pygments_lexer": "ipython3",
   "version": "3.10.0"
  },
  "orig_nbformat": 4
 },
 "nbformat": 4,
 "nbformat_minor": 2
}
